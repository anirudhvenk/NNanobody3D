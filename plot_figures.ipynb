{
 "cells": [
  {
   "cell_type": "code",
   "execution_count": 2,
   "id": "8031cfa0",
   "metadata": {},
   "outputs": [],
   "source": [
    "import numpy as np\n",
    "import matplotlib.pyplot as plt\n",
    "import pandas as pd"
   ]
  },
  {
   "cell_type": "code",
   "execution_count": 38,
   "id": "c81eef8a",
   "metadata": {},
   "outputs": [],
   "source": [
    "seqs = pd.read_csv('../NNanobody3D-supplement/generated/3eak_gen_3.tsv', sep='\\t')[['cdr3']]\n",
    "seq_counts = {}\n",
    "\n",
    "for seq in seqs.values:\n",
    "    seq = seq[0]\n",
    "    for char in seq:    \n",
    "        if char in seq_counts:\n",
    "            seq_counts[char] += 1\n",
    "        else:\n",
    "            seq_counts[char] =1"
   ]
  },
  {
   "cell_type": "code",
   "execution_count": 35,
   "id": "36774c2f",
   "metadata": {},
   "outputs": [],
   "source": [
    "seqs = pd.read_csv('../NNanobody3D-supplement/generated/top_seeds.csv')[['cdr3']]\n",
    "seq_counts = {}\n",
    "\n",
    "for seq in seqs.values:\n",
    "    seq = seq[0]\n",
    "    for char in seq:    \n",
    "        if char in seq_counts:\n",
    "            seq_counts[char] += 1\n",
    "        else:\n",
    "            seq_counts[char] =1"
   ]
  },
  {
   "cell_type": "code",
   "execution_count": 36,
   "id": "0686ccb1",
   "metadata": {},
   "outputs": [
    {
     "data": {
      "text/plain": [
       "<BarContainer object of 21 artists>"
      ]
     },
     "execution_count": 36,
     "metadata": {},
     "output_type": "execute_result"
    },
    {
     "data": {
      "image/png": "[encoded data removed]",
      "text/plain": [
       "<Figure size 432x288 with 1 Axes>"
      ]
     },
     "metadata": {
      "needs_background": "light"
     },
     "output_type": "display_data"
    }
   ],
   "source": [
    "sorted_seq_counts = {}\n",
    "for key in sorted(seq_counts):\n",
    "    sorted_seq_counts[key] = seq_counts[key]\n",
    "\n",
    "plt.bar(sorted_seq_counts.keys(), sorted_seq_counts.values())"
   ]
  },
  {
   "cell_type": "code",
   "execution_count": 39,
   "id": "de73a4d2",
   "metadata": {
    "scrolled": true
   },
   "outputs": [
    {
     "data": {
      "text/plain": [
       "<BarContainer object of 18 artists>"
      ]
     },
     "execution_count": 39,
     "metadata": {},
     "output_type": "execute_result"
    },
    {
     "data": {
      "image/png": "[encoded data removed]",
      "text/plain": [
       "<Figure size 432x288 with 1 Axes>"
      ]
     },
     "metadata": {
      "needs_background": "light"
     },
     "output_type": "display_data"
    }
   ],
   "source": [
    "sorted_seq_counts = {}\n",
    "for key in sorted(seq_counts):\n",
    "    sorted_seq_counts[key] = seq_counts[key]\n",
    "\n",
    "plt.bar(sorted_seq_counts.keys(), sorted_seq_counts.values())"
   ]
  }
 ],
 "metadata": {
  "kernelspec": {
   "display_name": "pytorch-m1",
   "language": "python",
   "name": "pytorch-m1"
  },
  "language_info": {
   "codemirror_mode": {
    "name": "ipython",
    "version": 3
   },
   "file_extension": ".py",
   "mimetype": "text/x-python",
   "name": "python",
   "nbconvert_exporter": "python",
   "pygments_lexer": "ipython3",
   "version": "3.8.13"
  }
 },
 "nbformat": 4,
 "nbformat_minor": 5
}
